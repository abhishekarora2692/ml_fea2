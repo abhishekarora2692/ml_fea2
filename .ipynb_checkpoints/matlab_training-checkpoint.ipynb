{
 "cells": [
  {
   "cell_type": "code",
   "execution_count": 16,
   "metadata": {},
   "outputs": [],
   "source": [
    "%matplotlib inline\n",
    "\n",
    "import matplotlib\n",
    "import matplotlib.pyplot as plt\n",
    "import pandas as pd\n",
    "import random\n",
    "import math\n",
    "\n",
    "import numpy as np\n",
    "np.random.seed(1)\n",
    "from keras.models import Sequential\n",
    "from keras.layers import Dense\n",
    "from keras.optimizers import SGD\n",
    "#%matplotlib notebook\n",
    "\n",
    "from numpy.linalg import inv\n",
    "from numpy import linalg as LA\n",
    "from scipy import linalg\n",
    "import random\n",
    "\n",
    "from matplotlib import animation, rc\n",
    "from IPython.display import HTML"
   ]
  },
  {
   "cell_type": "code",
   "execution_count": 17,
   "metadata": {},
   "outputs": [],
   "source": [
    "df = pd.read_csv('training_data.csv')"
   ]
  },
  {
   "cell_type": "code",
   "execution_count": 21,
   "metadata": {},
   "outputs": [],
   "source": [
    "FM = df.values\n",
    "dim = np.shape(FM)"
   ]
  },
  {
   "cell_type": "code",
   "execution_count": 24,
   "metadata": {},
   "outputs": [
    {
     "data": {
      "text/plain": [
       "41.0"
      ]
     },
     "execution_count": 24,
     "metadata": {},
     "output_type": "execute_result"
    }
   ],
   "source": [
    "dim[1]/2"
   ]
  },
  {
   "cell_type": "code",
   "execution_count": 25,
   "metadata": {},
   "outputs": [],
   "source": [
    "#ignore rotations and moments\n",
    "\n",
    "F = FM[:,0:int(dim[1]/2)]\n",
    "F = F[:,0::2]\n",
    "D = FM[:,int(dim[1]/2):] \n",
    "D = D[:,0::2] "
   ]
  },
  {
   "cell_type": "code",
   "execution_count": null,
   "metadata": {},
   "outputs": [],
   "source": [
    "#Training data\n",
    "\n",
    "n_timesteps, n_nodes = np.shape(D)\n",
    "d = 10 #number of steps in \"model memory\"\n",
    "t = d\n",
    "\n",
    "X_train = np.zeros([n_timesteps-d, 2*d*n_nodes])\n",
    "Y_train = np.zeros([n_timesteps-d, n_nodes])\n",
    "\n",
    "r_max = max(r_end)\n",
    "rt_max = max(rt_end)\n",
    "for i in range(n_timesteps-d):\n",
    "    \n",
    "    bulk = 0\n",
    "    for j in range(n_nodes):\n",
    "        X_train[i, bulk:bulk + d] = np.array(F[t-d:t+1,:])*1/10000\n",
    "        \n",
    "        bulk += d\n",
    "    \n",
    "    for j in range(n_nodes):\n",
    "        X_train[i, bulk:bulk + d] = D[t-d:t,j]/r_max\n",
    "        bulk += d\n",
    "    \n",
    "    #for j in range(n_nodes):\n",
    "     #   X_train[i, bulk: bulk + d] = Dt[t-d:t,j]/rt_max\n",
    "      #  bulk += d\n",
    "\n",
    "    Y_train[i, 0:n_nodes] = D[i, :]/r_max\n",
    "    #Y_train[i, n_nodes:] = Dt[i, :]/rt_max\n",
    "    t += 1\n"
   ]
  },
  {
   "cell_type": "code",
   "execution_count": null,
   "metadata": {},
   "outputs": [],
   "source": []
  }
 ],
 "metadata": {
  "kernelspec": {
   "display_name": "Python 3",
   "language": "python",
   "name": "python3"
  },
  "language_info": {
   "codemirror_mode": {
    "name": "ipython",
    "version": 3
   },
   "file_extension": ".py",
   "mimetype": "text/x-python",
   "name": "python",
   "nbconvert_exporter": "python",
   "pygments_lexer": "ipython3",
   "version": "3.6.5"
  }
 },
 "nbformat": 4,
 "nbformat_minor": 2
}
